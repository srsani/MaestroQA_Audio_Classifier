{
 "cells": [
  {
   "cell_type": "markdown",
   "metadata": {},
   "source": [
    "# Sentimental analysis of text data:\n",
    "<p>\n",
    "<a id= 'top'></a>\n",
    "\n",
    "In this notebook I am red all the text files to a panda dataframe, cleaned the text and performed sentimental analysis. \n",
    "1. [Reading the data to a panda datafram](#1)\n",
    "* [Cleaning the text data](#2)\n",
    "* [Sentimental Analysis](#3)\n"
   ]
  },
  {
   "cell_type": "code",
   "execution_count": 1,
   "metadata": {
    "collapsed": false
   },
   "outputs": [],
   "source": [
    "##requirement \n",
    "import pandas as pd\n",
    "import glob as glob\n",
    "import numpy as np\n",
    "import re\n",
    "from multiprocessing import Pool ## great tool to keep track of loop process\n",
    "from textblob import TextBlob, Word ## Sentimental Analysis\n",
    "from tqdm import tqdm"
   ]
  },
  {
   "cell_type": "markdown",
   "metadata": {},
   "source": [
    "## Reading the data to a panda datafram\n",
    "<p>\n",
    "<a id= '1'></a>\n",
    "[Return to top](#top)"
   ]
  },
  {
   "cell_type": "code",
   "execution_count": 2,
   "metadata": {
    "collapsed": false
   },
   "outputs": [
    {
     "name": "stderr",
     "output_type": "stream",
     "text": [
      "100%|██████████| 5670/5670 [00:08<00:00, 694.77it/s]\n"
     ]
    },
    {
     "data": {
      "text/html": [
       "<div>\n",
       "<table border=\"1\" class=\"dataframe\">\n",
       "  <thead>\n",
       "    <tr style=\"text-align: right;\">\n",
       "      <th></th>\n",
       "      <th>gradable_id</th>\n",
       "      <th>text</th>\n",
       "    </tr>\n",
       "  </thead>\n",
       "  <tbody>\n",
       "    <tr>\n",
       "      <th>0</th>\n",
       "      <td>19761</td>\n",
       "      <td>['(0.9820305109024048): thank you for calling ...</td>\n",
       "    </tr>\n",
       "    <tr>\n",
       "      <th>1</th>\n",
       "      <td>20069</td>\n",
       "      <td>['(0.9764696955680847): thank you for calling ...</td>\n",
       "    </tr>\n",
       "    <tr>\n",
       "      <th>2</th>\n",
       "      <td>21858</td>\n",
       "      <td>['(0.9416371583938599): state of Tennessee Dep...</td>\n",
       "    </tr>\n",
       "    <tr>\n",
       "      <th>3</th>\n",
       "      <td>1327183</td>\n",
       "      <td>[\"(0.9171654582023621): thank you for calling ...</td>\n",
       "    </tr>\n",
       "    <tr>\n",
       "      <th>4</th>\n",
       "      <td>20936</td>\n",
       "      <td>['(0.8439109325408936): I have a, Tennessee De...</td>\n",
       "    </tr>\n",
       "  </tbody>\n",
       "</table>\n",
       "</div>"
      ],
      "text/plain": [
       "   gradable_id                                               text\n",
       "0        19761  ['(0.9820305109024048): thank you for calling ...\n",
       "1        20069  ['(0.9764696955680847): thank you for calling ...\n",
       "2        21858  ['(0.9416371583938599): state of Tennessee Dep...\n",
       "3      1327183  [\"(0.9171654582023621): thank you for calling ...\n",
       "4        20936  ['(0.8439109325408936): I have a, Tennessee De..."
      ]
     },
     "execution_count": 2,
     "metadata": {},
     "output_type": "execute_result"
    }
   ],
   "source": [
    "filelist = glob.glob('Speech_to_text/*.txt')\n",
    "df = pd.DataFrame()\n",
    "index = []\n",
    "for file in tqdm(filelist):\n",
    "    dfs= pd.read_table(file, names=['text'])\n",
    "    df = pd.concat ([df,dfs])\n",
    "    \n",
    "    c = re.search(r'[0-9]+.txt', file)\n",
    "    d = re.search(r'[0-9]+', c.group()).group()\n",
    "\n",
    "    index.append(int(d))\n",
    "    df.index = [index]\n",
    "    \n",
    "df = df.reset_index()\n",
    "df.columns = ['gradable_id', 'text']\n",
    "df.head()"
   ]
  },
  {
   "cell_type": "markdown",
   "metadata": {},
   "source": [
    "## Cleaning the text data\n",
    "<p>\n",
    "<a id= '2'></a>\n",
    "[Return to top](#top)"
   ]
  },
  {
   "cell_type": "code",
   "execution_count": 3,
   "metadata": {
    "collapsed": true
   },
   "outputs": [],
   "source": [
    "def clean(text):\n",
    "    clean_tag = re.sub(\"[^a-zA-Zé]\", \" \", str(text)) \n",
    "    clean_tag = clean_tag.lower().split()\n",
    "    \n",
    "    return (\" \".join( clean_tag ))"
   ]
  },
  {
   "cell_type": "code",
   "execution_count": 4,
   "metadata": {
    "collapsed": false
   },
   "outputs": [
    {
     "data": {
      "text/html": [
       "<div>\n",
       "<table border=\"1\" class=\"dataframe\">\n",
       "  <thead>\n",
       "    <tr style=\"text-align: right;\">\n",
       "      <th></th>\n",
       "      <th>gradable_id</th>\n",
       "      <th>text</th>\n",
       "      <th>clean_text</th>\n",
       "    </tr>\n",
       "  </thead>\n",
       "  <tbody>\n",
       "    <tr>\n",
       "      <th>5665</th>\n",
       "      <td>1295295</td>\n",
       "      <td>['(0.7317875027656555): OK Google Harris my sp...</td>\n",
       "      <td>ok google harris my speaking msst n i recently...</td>\n",
       "    </tr>\n",
       "    <tr>\n",
       "      <th>5666</th>\n",
       "      <td>2086125</td>\n",
       "      <td>['(0.9204361438751221): Define happy peanut th...</td>\n",
       "      <td>define happy peanut this is christy how can i ...</td>\n",
       "    </tr>\n",
       "    <tr>\n",
       "      <th>5667</th>\n",
       "      <td>544750</td>\n",
       "      <td>['(0.959342360496521): hi thank you for callin...</td>\n",
       "      <td>hi thank you for calling fabfitfun this is jam...</td>\n",
       "    </tr>\n",
       "    <tr>\n",
       "      <th>5668</th>\n",
       "      <td>1120825</td>\n",
       "      <td>[\"(0.9657314419746399): hello thank you for ca...</td>\n",
       "      <td>hello thank you for calling harry s my name is...</td>\n",
       "    </tr>\n",
       "    <tr>\n",
       "      <th>5669</th>\n",
       "      <td>1183354</td>\n",
       "      <td>[\"(0.9389521479606628): hello thank you for ca...</td>\n",
       "      <td>hello thank you for calling harry s my name is...</td>\n",
       "    </tr>\n",
       "  </tbody>\n",
       "</table>\n",
       "</div>"
      ],
      "text/plain": [
       "      gradable_id                                               text  \\\n",
       "5665      1295295  ['(0.7317875027656555): OK Google Harris my sp...   \n",
       "5666      2086125  ['(0.9204361438751221): Define happy peanut th...   \n",
       "5667       544750  ['(0.959342360496521): hi thank you for callin...   \n",
       "5668      1120825  [\"(0.9657314419746399): hello thank you for ca...   \n",
       "5669      1183354  [\"(0.9389521479606628): hello thank you for ca...   \n",
       "\n",
       "                                             clean_text  \n",
       "5665  ok google harris my speaking msst n i recently...  \n",
       "5666  define happy peanut this is christy how can i ...  \n",
       "5667  hi thank you for calling fabfitfun this is jam...  \n",
       "5668  hello thank you for calling harry s my name is...  \n",
       "5669  hello thank you for calling harry s my name is...  "
      ]
     },
     "execution_count": 4,
     "metadata": {},
     "output_type": "execute_result"
    }
   ],
   "source": [
    "df['clean_text'] = df.text.apply(clean)\n",
    "df.tail()"
   ]
  },
  {
   "cell_type": "markdown",
   "metadata": {},
   "source": [
    "## Sentimental Analysis\n",
    "<p>\n",
    "<a id= '3'></a>\n",
    "[Return to top](#top)"
   ]
  },
  {
   "cell_type": "code",
   "execution_count": 5,
   "metadata": {
    "collapsed": false
   },
   "outputs": [],
   "source": [
    "def p_s(a):\n",
    "    '''\n",
    "    Sentiment/polarity and subjectivity\n",
    "    is extracted by using TexBlob \n",
    "    '''\n",
    "    testimonial = TextBlob(df.clean_text[a]).correct()\n",
    "    polarity , subjectivity = testimonial.sentiment\n",
    "    return(polarity,subjectivity)\n",
    "\n",
    "if __name__ == '__main__':\n",
    "    po = []\n",
    "    se = []\n",
    "    files = range(5670)\n",
    "\n",
    "\n",
    "    pool = Pool(20) ## even with 20 processor this process will take up to 30 min for these 5670 files. \n",
    "    po, se =zip(* pool.map(p_s, files))   \n",
    "    pool.close()\n",
    "    pool.join()\n",
    "    \n",
    "pol = list(po)\n",
    "sen = list(se)\n",
    "df = df.assign(polarity = pol)\n",
    "df = df.assign(subjectivity = se)"
   ]
  },
  {
   "cell_type": "code",
   "execution_count": 6,
   "metadata": {
    "collapsed": false
   },
   "outputs": [],
   "source": [
    "df.to_csv('Sentimentsubjectivity.csv')"
   ]
  },
  {
   "cell_type": "code",
   "execution_count": null,
   "metadata": {
    "collapsed": true
   },
   "outputs": [],
   "source": []
  }
 ],
 "metadata": {
  "anaconda-cloud": {},
  "kernelspec": {
   "display_name": "Python [conda root]",
   "language": "python",
   "name": "conda-root-py"
  },
  "language_info": {
   "codemirror_mode": {
    "name": "ipython",
    "version": 3
   },
   "file_extension": ".py",
   "mimetype": "text/x-python",
   "name": "python",
   "nbconvert_exporter": "python",
   "pygments_lexer": "ipython3",
   "version": "3.5.2"
  }
 },
 "nbformat": 4,
 "nbformat_minor": 1
}
