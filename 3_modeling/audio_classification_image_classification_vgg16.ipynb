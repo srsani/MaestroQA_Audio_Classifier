{
 "cells": [
  {
   "cell_type": "markdown",
   "metadata": {},
   "source": [
    "# Audio classification using Image classification:\n",
    "\n",
    "\n",
    "This notebook illustrates how to use a pre-trained vgg16 model for the task of image classification. \n",
    "\n",
    "Best Accuracy: 68.37%"
   ]
  },
  {
   "cell_type": "code",
   "execution_count": 1,
   "metadata": {
    "collapsed": false
   },
   "outputs": [
    {
     "name": "stderr",
     "output_type": "stream",
     "text": [
      "Using cuDNN version 6021 on context None\n",
      "Mapped name None to device cuda: Quadro P6000 (0000:03:00.0)\n",
      "Using TensorFlow backend.\n"
     ]
    }
   ],
   "source": [
    "from importlib import reload\n",
    "from utils import *\n",
    "import utils\n",
    "reload(utils)\n",
    "# Import our class, and instantiate\n",
    "import vgg16; \n",
    "# reload(vgg16)\n",
    "from vgg16 import Vgg16\n",
    "vgg = Vgg16()\n",
    "path = \"Data/maestroqa/\"\n",
    "# As large as you can, but no larger than 64 is recommended. \n",
    "# If you have an older or cheaper GPU, you'll run out of memory, so will have to decrease this.\n",
    "batch_size=128"
   ]
  },
  {
   "cell_type": "markdown",
   "metadata": {},
   "source": [
    "# Reading data:"
   ]
  },
  {
   "cell_type": "code",
   "execution_count": 8,
   "metadata": {
    "collapsed": false
   },
   "outputs": [
    {
     "name": "stdout",
     "output_type": "stream",
     "text": [
      "Found 4870 images belonging to 2 classes.\n",
      "Found 800 images belonging to 2 classes.\n"
     ]
    }
   ],
   "source": [
    "batches = vgg.get_batches(path+'train', batch_size=batch_size)\n",
    "val_batches = vgg.get_batches(path+'valid', batch_size=batch_size)"
   ]
  },
  {
   "cell_type": "markdown",
   "metadata": {},
   "source": [
    "## Loading the model:"
   ]
  },
  {
   "cell_type": "code",
   "execution_count": 2,
   "metadata": {
    "collapsed": true
   },
   "outputs": [],
   "source": [
    "# As large as you can, but no larger than 64 is recommended. \n",
    "# If you have an older or cheaper GPU, you'll run out of memory, so will have to decrease this.\n",
    "batch_size=128"
   ]
  },
  {
   "cell_type": "code",
   "execution_count": 9,
   "metadata": {
    "collapsed": false,
    "scrolled": true
   },
   "outputs": [
    {
     "name": "stdout",
     "output_type": "stream",
     "text": [
      "_________________________________________________________________\n",
      "Layer (type)                 Output Shape              Param #   \n",
      "=================================================================\n",
      "lambda_1 (Lambda)            (None, 3, 224, 224)       0         \n",
      "_________________________________________________________________\n",
      "zero_padding2d_1 (ZeroPaddin (None, 3, 226, 226)       0         \n",
      "_________________________________________________________________\n",
      "conv2d_1 (Conv2D)            (None, 64, 224, 224)      1792      \n",
      "_________________________________________________________________\n",
      "zero_padding2d_2 (ZeroPaddin (None, 64, 226, 226)      0         \n",
      "_________________________________________________________________\n",
      "conv2d_2 (Conv2D)            (None, 64, 224, 224)      36928     \n",
      "_________________________________________________________________\n",
      "max_pooling2d_1 (MaxPooling2 (None, 64, 112, 112)      0         \n",
      "_________________________________________________________________\n",
      "zero_padding2d_3 (ZeroPaddin (None, 64, 114, 114)      0         \n",
      "_________________________________________________________________\n",
      "conv2d_3 (Conv2D)            (None, 128, 112, 112)     73856     \n",
      "_________________________________________________________________\n",
      "zero_padding2d_4 (ZeroPaddin (None, 128, 114, 114)     0         \n",
      "_________________________________________________________________\n",
      "conv2d_4 (Conv2D)            (None, 128, 112, 112)     147584    \n",
      "_________________________________________________________________\n",
      "max_pooling2d_2 (MaxPooling2 (None, 128, 56, 56)       0         \n",
      "_________________________________________________________________\n",
      "zero_padding2d_5 (ZeroPaddin (None, 128, 58, 58)       0         \n",
      "_________________________________________________________________\n",
      "conv2d_5 (Conv2D)            (None, 256, 56, 56)       295168    \n",
      "_________________________________________________________________\n",
      "zero_padding2d_6 (ZeroPaddin (None, 256, 58, 58)       0         \n",
      "_________________________________________________________________\n",
      "conv2d_6 (Conv2D)            (None, 256, 56, 56)       590080    \n",
      "_________________________________________________________________\n",
      "zero_padding2d_7 (ZeroPaddin (None, 256, 58, 58)       0         \n",
      "_________________________________________________________________\n",
      "conv2d_7 (Conv2D)            (None, 256, 56, 56)       590080    \n",
      "_________________________________________________________________\n",
      "max_pooling2d_3 (MaxPooling2 (None, 256, 28, 28)       0         \n",
      "_________________________________________________________________\n",
      "zero_padding2d_8 (ZeroPaddin (None, 256, 30, 30)       0         \n",
      "_________________________________________________________________\n",
      "conv2d_8 (Conv2D)            (None, 512, 28, 28)       1180160   \n",
      "_________________________________________________________________\n",
      "zero_padding2d_9 (ZeroPaddin (None, 512, 30, 30)       0         \n",
      "_________________________________________________________________\n",
      "conv2d_9 (Conv2D)            (None, 512, 28, 28)       2359808   \n",
      "_________________________________________________________________\n",
      "zero_padding2d_10 (ZeroPaddi (None, 512, 30, 30)       0         \n",
      "_________________________________________________________________\n",
      "conv2d_10 (Conv2D)           (None, 512, 28, 28)       2359808   \n",
      "_________________________________________________________________\n",
      "max_pooling2d_4 (MaxPooling2 (None, 512, 14, 14)       0         \n",
      "_________________________________________________________________\n",
      "zero_padding2d_11 (ZeroPaddi (None, 512, 16, 16)       0         \n",
      "_________________________________________________________________\n",
      "conv2d_11 (Conv2D)           (None, 512, 14, 14)       2359808   \n",
      "_________________________________________________________________\n",
      "zero_padding2d_12 (ZeroPaddi (None, 512, 16, 16)       0         \n",
      "_________________________________________________________________\n",
      "conv2d_12 (Conv2D)           (None, 512, 14, 14)       2359808   \n",
      "_________________________________________________________________\n",
      "zero_padding2d_13 (ZeroPaddi (None, 512, 16, 16)       0         \n",
      "_________________________________________________________________\n",
      "conv2d_13 (Conv2D)           (None, 512, 14, 14)       2359808   \n",
      "_________________________________________________________________\n",
      "max_pooling2d_5 (MaxPooling2 (None, 512, 7, 7)         0         \n",
      "_________________________________________________________________\n",
      "flatten_1 (Flatten)          (None, 25088)             0         \n",
      "_________________________________________________________________\n",
      "dense_1 (Dense)              (None, 4096)              102764544 \n",
      "_________________________________________________________________\n",
      "dropout_1 (Dropout)          (None, 4096)              0         \n",
      "_________________________________________________________________\n",
      "dense_2 (Dense)              (None, 4096)              16781312  \n",
      "_________________________________________________________________\n",
      "dropout_2 (Dropout)          (None, 4096)              0         \n",
      "_________________________________________________________________\n",
      "dense_3 (Dense)              (None, 1000)              4097000   \n",
      "=================================================================\n",
      "Total params: 138,357,544\n",
      "Trainable params: 138,357,544\n",
      "Non-trainable params: 0\n",
      "_________________________________________________________________\n"
     ]
    }
   ],
   "source": [
    "#VGG model predict 1000 different categories but we have only 2.  \n",
    "vgg.model.summary()"
   ]
  },
  {
   "cell_type": "code",
   "execution_count": 10,
   "metadata": {
    "collapsed": true
   },
   "outputs": [],
   "source": [
    "vgg.model.pop()\n",
    "for layer in vgg.model.layers: \n",
    "    layer.trainable=False\n",
    "vgg.model.add(Dense(2, activation='softmax'))"
   ]
  },
  {
   "cell_type": "code",
   "execution_count": 11,
   "metadata": {
    "collapsed": false,
    "scrolled": true
   },
   "outputs": [
    {
     "name": "stdout",
     "output_type": "stream",
     "text": [
      "_________________________________________________________________\n",
      "Layer (type)                 Output Shape              Param #   \n",
      "=================================================================\n",
      "lambda_1 (Lambda)            (None, 3, 224, 224)       0         \n",
      "_________________________________________________________________\n",
      "zero_padding2d_1 (ZeroPaddin (None, 3, 226, 226)       0         \n",
      "_________________________________________________________________\n",
      "conv2d_1 (Conv2D)            (None, 64, 224, 224)      1792      \n",
      "_________________________________________________________________\n",
      "zero_padding2d_2 (ZeroPaddin (None, 64, 226, 226)      0         \n",
      "_________________________________________________________________\n",
      "conv2d_2 (Conv2D)            (None, 64, 224, 224)      36928     \n",
      "_________________________________________________________________\n",
      "max_pooling2d_1 (MaxPooling2 (None, 64, 112, 112)      0         \n",
      "_________________________________________________________________\n",
      "zero_padding2d_3 (ZeroPaddin (None, 64, 114, 114)      0         \n",
      "_________________________________________________________________\n",
      "conv2d_3 (Conv2D)            (None, 128, 112, 112)     73856     \n",
      "_________________________________________________________________\n",
      "zero_padding2d_4 (ZeroPaddin (None, 128, 114, 114)     0         \n",
      "_________________________________________________________________\n",
      "conv2d_4 (Conv2D)            (None, 128, 112, 112)     147584    \n",
      "_________________________________________________________________\n",
      "max_pooling2d_2 (MaxPooling2 (None, 128, 56, 56)       0         \n",
      "_________________________________________________________________\n",
      "zero_padding2d_5 (ZeroPaddin (None, 128, 58, 58)       0         \n",
      "_________________________________________________________________\n",
      "conv2d_5 (Conv2D)            (None, 256, 56, 56)       295168    \n",
      "_________________________________________________________________\n",
      "zero_padding2d_6 (ZeroPaddin (None, 256, 58, 58)       0         \n",
      "_________________________________________________________________\n",
      "conv2d_6 (Conv2D)            (None, 256, 56, 56)       590080    \n",
      "_________________________________________________________________\n",
      "zero_padding2d_7 (ZeroPaddin (None, 256, 58, 58)       0         \n",
      "_________________________________________________________________\n",
      "conv2d_7 (Conv2D)            (None, 256, 56, 56)       590080    \n",
      "_________________________________________________________________\n",
      "max_pooling2d_3 (MaxPooling2 (None, 256, 28, 28)       0         \n",
      "_________________________________________________________________\n",
      "zero_padding2d_8 (ZeroPaddin (None, 256, 30, 30)       0         \n",
      "_________________________________________________________________\n",
      "conv2d_8 (Conv2D)            (None, 512, 28, 28)       1180160   \n",
      "_________________________________________________________________\n",
      "zero_padding2d_9 (ZeroPaddin (None, 512, 30, 30)       0         \n",
      "_________________________________________________________________\n",
      "conv2d_9 (Conv2D)            (None, 512, 28, 28)       2359808   \n",
      "_________________________________________________________________\n",
      "zero_padding2d_10 (ZeroPaddi (None, 512, 30, 30)       0         \n",
      "_________________________________________________________________\n",
      "conv2d_10 (Conv2D)           (None, 512, 28, 28)       2359808   \n",
      "_________________________________________________________________\n",
      "max_pooling2d_4 (MaxPooling2 (None, 512, 14, 14)       0         \n",
      "_________________________________________________________________\n",
      "zero_padding2d_11 (ZeroPaddi (None, 512, 16, 16)       0         \n",
      "_________________________________________________________________\n",
      "conv2d_11 (Conv2D)           (None, 512, 14, 14)       2359808   \n",
      "_________________________________________________________________\n",
      "zero_padding2d_12 (ZeroPaddi (None, 512, 16, 16)       0         \n",
      "_________________________________________________________________\n",
      "conv2d_12 (Conv2D)           (None, 512, 14, 14)       2359808   \n",
      "_________________________________________________________________\n",
      "zero_padding2d_13 (ZeroPaddi (None, 512, 16, 16)       0         \n",
      "_________________________________________________________________\n",
      "conv2d_13 (Conv2D)           (None, 512, 14, 14)       2359808   \n",
      "_________________________________________________________________\n",
      "max_pooling2d_5 (MaxPooling2 (None, 512, 7, 7)         0         \n",
      "_________________________________________________________________\n",
      "flatten_1 (Flatten)          (None, 25088)             0         \n",
      "_________________________________________________________________\n",
      "dense_1 (Dense)              (None, 4096)              102764544 \n",
      "_________________________________________________________________\n",
      "dropout_1 (Dropout)          (None, 4096)              0         \n",
      "_________________________________________________________________\n",
      "dense_2 (Dense)              (None, 4096)              16781312  \n",
      "_________________________________________________________________\n",
      "dropout_2 (Dropout)          (None, 4096)              0         \n",
      "_________________________________________________________________\n",
      "dense_4 (Dense)              (None, 2)                 8194      \n",
      "=================================================================\n",
      "Total params: 134,268,738\n",
      "Trainable params: 8,194\n",
      "Non-trainable params: 134,260,544\n",
      "_________________________________________________________________\n"
     ]
    }
   ],
   "source": [
    "vgg.model.compile(Adam(lr=0.0001), loss='categorical_crossentropy', metrics=['accuracy'])\n",
    "vgg.model.summary()"
   ]
  },
  {
   "cell_type": "code",
   "execution_count": 12,
   "metadata": {
    "collapsed": false
   },
   "outputs": [
    {
     "name": "stdout",
     "output_type": "stream",
     "text": [
      "Epoch 1/5\n",
      "39/39 [==============================] - 54s 1s/step - loss: 1.2623 - acc: 0.5127 - val_loss: 0.7330 - val_acc: 0.5000\n",
      "Epoch 2/5\n",
      "39/39 [==============================] - 45s 1s/step - loss: 1.1500 - acc: 0.5316 - val_loss: 0.7057 - val_acc: 0.5200\n",
      "Epoch 3/5\n",
      "39/39 [==============================] - 46s 1s/step - loss: 1.1672 - acc: 0.5079 - val_loss: 0.6935 - val_acc: 0.5625\n",
      "Epoch 4/5\n",
      "39/39 [==============================] - 45s 1s/step - loss: 1.0912 - acc: 0.5302 - val_loss: 0.6751 - val_acc: 0.5863\n",
      "Epoch 5/5\n",
      "39/39 [==============================] - 47s 1s/step - loss: 1.0526 - acc: 0.5444 - val_loss: 0.6695 - val_acc: 0.5863\n"
     ]
    },
    {
     "data": {
      "text/plain": [
       "<keras.callbacks.History at 0x7ff271087278>"
      ]
     },
     "execution_count": 12,
     "metadata": {},
     "output_type": "execute_result"
    }
   ],
   "source": [
    "vgg.model.fit_generator(batches,  \n",
    "                        epochs = 5, \n",
    "                        validation_data = val_batches)"
   ]
  },
  {
   "cell_type": "code",
   "execution_count": 13,
   "metadata": {
    "collapsed": false
   },
   "outputs": [
    {
     "name": "stdout",
     "output_type": "stream",
     "text": [
      "Epoch 1/5\n",
      "39/39 [==============================] - 53s 1s/step - loss: 1.0333 - acc: 0.5362 - val_loss: 0.6705 - val_acc: 0.6025\n",
      "Epoch 2/5\n",
      "39/39 [==============================] - 46s 1s/step - loss: 1.0091 - acc: 0.5479 - val_loss: 0.6567 - val_acc: 0.6012\n",
      "Epoch 3/5\n",
      "39/39 [==============================] - 46s 1s/step - loss: 0.9919 - acc: 0.5541 - val_loss: 0.6605 - val_acc: 0.6012\n",
      "Epoch 4/5\n",
      "39/39 [==============================] - 46s 1s/step - loss: 0.9566 - acc: 0.5592 - val_loss: 0.6563 - val_acc: 0.6038\n",
      "Epoch 5/5\n",
      "39/39 [==============================] - 46s 1s/step - loss: 0.9318 - acc: 0.5685 - val_loss: 0.6428 - val_acc: 0.6038\n"
     ]
    },
    {
     "data": {
      "text/plain": [
       "<keras.callbacks.History at 0x7ff258672a90>"
      ]
     },
     "execution_count": 13,
     "metadata": {},
     "output_type": "execute_result"
    }
   ],
   "source": [
    "vgg.model.optimizer.lr = 0.00001\n",
    "vgg.model.fit_generator(batches,  \n",
    "                        epochs = 5, \n",
    "                        validation_data = val_batches)"
   ]
  },
  {
   "cell_type": "code",
   "execution_count": 14,
   "metadata": {
    "collapsed": false
   },
   "outputs": [
    {
     "name": "stdout",
     "output_type": "stream",
     "text": [
      "Epoch 1/5\n",
      "39/39 [==============================] - 54s 1s/step - loss: 0.9506 - acc: 0.5615 - val_loss: 0.6521 - val_acc: 0.6175\n",
      "Epoch 2/5\n",
      "39/39 [==============================] - 46s 1s/step - loss: 0.9214 - acc: 0.5573 - val_loss: 0.6416 - val_acc: 0.6200\n",
      "Epoch 3/5\n",
      "39/39 [==============================] - 46s 1s/step - loss: 0.9156 - acc: 0.5629 - val_loss: 0.6507 - val_acc: 0.6150\n",
      "Epoch 4/5\n",
      "39/39 [==============================] - 47s 1s/step - loss: 0.8549 - acc: 0.5813 - val_loss: 0.6314 - val_acc: 0.6162\n",
      "Epoch 5/5\n",
      "39/39 [==============================] - 46s 1s/step - loss: 0.8456 - acc: 0.5782 - val_loss: 0.6265 - val_acc: 0.6275\n"
     ]
    },
    {
     "data": {
      "text/plain": [
       "<keras.callbacks.History at 0x7ff258672be0>"
      ]
     },
     "execution_count": 14,
     "metadata": {},
     "output_type": "execute_result"
    }
   ],
   "source": [
    "vgg.model.optimizer.lr = 0.001\n",
    "vgg.model.fit_generator(batches,  \n",
    "                        epochs = 5, \n",
    "                        validation_data = val_batches)"
   ]
  },
  {
   "cell_type": "code",
   "execution_count": 15,
   "metadata": {
    "collapsed": false,
    "scrolled": true
   },
   "outputs": [
    {
     "name": "stdout",
     "output_type": "stream",
     "text": [
      "Epoch 1/5\n",
      "39/39 [==============================] - 55s 1s/step - loss: 0.8316 - acc: 0.5874 - val_loss: 0.6302 - val_acc: 0.6200\n",
      "Epoch 2/5\n",
      "39/39 [==============================] - 46s 1s/step - loss: 0.8311 - acc: 0.5928 - val_loss: 0.6256 - val_acc: 0.6162\n",
      "Epoch 3/5\n",
      "39/39 [==============================] - 47s 1s/step - loss: 0.8318 - acc: 0.5870 - val_loss: 0.6244 - val_acc: 0.6225\n",
      "Epoch 4/5\n",
      "39/39 [==============================] - 47s 1s/step - loss: 0.8129 - acc: 0.5882 - val_loss: 0.6181 - val_acc: 0.6300\n",
      "Epoch 5/5\n",
      "39/39 [==============================] - 46s 1s/step - loss: 0.8016 - acc: 0.5870 - val_loss: 0.6364 - val_acc: 0.6238\n"
     ]
    },
    {
     "data": {
      "text/plain": [
       "<keras.callbacks.History at 0x7ff258672748>"
      ]
     },
     "execution_count": 15,
     "metadata": {},
     "output_type": "execute_result"
    }
   ],
   "source": [
    "vgg.model.optimizer.lr = 0.00001\n",
    "vgg.model.fit_generator(batches,  \n",
    "                        epochs = 5, \n",
    "                        validation_data = val_batches)"
   ]
  },
  {
   "cell_type": "code",
   "execution_count": 17,
   "metadata": {
    "collapsed": false
   },
   "outputs": [
    {
     "name": "stdout",
     "output_type": "stream",
     "text": [
      "Epoch 1/5\n",
      "39/39 [==============================] - 55s 1s/step - loss: 0.7957 - acc: 0.5858 - val_loss: 0.6145 - val_acc: 0.6350\n",
      "Epoch 2/5\n",
      "39/39 [==============================] - 46s 1s/step - loss: 0.8005 - acc: 0.5748 - val_loss: 0.6324 - val_acc: 0.6250\n",
      "Epoch 3/5\n",
      "39/39 [==============================] - 46s 1s/step - loss: 0.7609 - acc: 0.6108 - val_loss: 0.6101 - val_acc: 0.6438\n",
      "Epoch 4/5\n",
      "39/39 [==============================] - 46s 1s/step - loss: 0.7779 - acc: 0.6010 - val_loss: 0.6086 - val_acc: 0.6375\n",
      "Epoch 5/5\n",
      "39/39 [==============================] - 46s 1s/step - loss: 0.7263 - acc: 0.6284 - val_loss: 0.6087 - val_acc: 0.6475\n"
     ]
    },
    {
     "data": {
      "text/plain": [
       "<keras.callbacks.History at 0x7ff2581c0f28>"
      ]
     },
     "execution_count": 17,
     "metadata": {},
     "output_type": "execute_result"
    }
   ],
   "source": [
    "vgg.model.optimizer.lr = 0.000001\n",
    "vgg.model.fit_generator(batches,  \n",
    "                        epochs = 5, \n",
    "                        validation_data = val_batches)"
   ]
  },
  {
   "cell_type": "code",
   "execution_count": 18,
   "metadata": {
    "collapsed": false
   },
   "outputs": [
    {
     "name": "stdout",
     "output_type": "stream",
     "text": [
      "Epoch 1/5\n",
      "39/39 [==============================] - 54s 1s/step - loss: 0.7679 - acc: 0.5916 - val_loss: 0.6097 - val_acc: 0.6587\n",
      "Epoch 2/5\n",
      "39/39 [==============================] - 46s 1s/step - loss: 0.7393 - acc: 0.6088 - val_loss: 0.6061 - val_acc: 0.6512\n",
      "Epoch 3/5\n",
      "39/39 [==============================] - 46s 1s/step - loss: 0.7364 - acc: 0.6056 - val_loss: 0.6131 - val_acc: 0.6288\n",
      "Epoch 4/5\n",
      "39/39 [==============================] - 46s 1s/step - loss: 0.7420 - acc: 0.6006 - val_loss: 0.6166 - val_acc: 0.6637\n",
      "Epoch 5/5\n",
      "39/39 [==============================] - 47s 1s/step - loss: 0.7102 - acc: 0.6196 - val_loss: 0.6057 - val_acc: 0.6538\n"
     ]
    },
    {
     "data": {
      "text/plain": [
       "<keras.callbacks.History at 0x7ff2581c0080>"
      ]
     },
     "execution_count": 18,
     "metadata": {},
     "output_type": "execute_result"
    }
   ],
   "source": [
    "vgg.model.optimizer.lr = 0.0001\n",
    "vgg.model.fit_generator(batches,  \n",
    "                        epochs = 5, \n",
    "                        validation_data = val_batches)"
   ]
  },
  {
   "cell_type": "code",
   "execution_count": 19,
   "metadata": {
    "collapsed": false
   },
   "outputs": [
    {
     "name": "stdout",
     "output_type": "stream",
     "text": [
      "Epoch 1/5\n",
      "39/39 [==============================] - 54s 1s/step - loss: 0.7004 - acc: 0.6222 - val_loss: 0.6050 - val_acc: 0.6625\n",
      "Epoch 2/5\n",
      "39/39 [==============================] - 46s 1s/step - loss: 0.7213 - acc: 0.6061 - val_loss: 0.6041 - val_acc: 0.6587\n",
      "Epoch 3/5\n",
      "39/39 [==============================] - 46s 1s/step - loss: 0.7041 - acc: 0.6185 - val_loss: 0.6243 - val_acc: 0.6550\n",
      "Epoch 4/5\n",
      "39/39 [==============================] - 46s 1s/step - loss: 0.6988 - acc: 0.6131 - val_loss: 0.6050 - val_acc: 0.6787\n",
      "Epoch 5/5\n",
      "39/39 [==============================] - 47s 1s/step - loss: 0.6946 - acc: 0.6185 - val_loss: 0.5978 - val_acc: 0.6587\n"
     ]
    },
    {
     "data": {
      "text/plain": [
       "<keras.callbacks.History at 0x7ff2586725c0>"
      ]
     },
     "execution_count": 19,
     "metadata": {},
     "output_type": "execute_result"
    }
   ],
   "source": [
    "vgg.model.optimizer.lr = 0.0001\n",
    "vgg.model.fit_generator(batches,  \n",
    "                        epochs = 5, \n",
    "                        validation_data = val_batches)"
   ]
  },
  {
   "cell_type": "code",
   "execution_count": 20,
   "metadata": {
    "collapsed": false
   },
   "outputs": [
    {
     "name": "stdout",
     "output_type": "stream",
     "text": [
      "Epoch 1/5\n",
      "39/39 [==============================] - 54s 1s/step - loss: 0.6770 - acc: 0.6320 - val_loss: 0.6006 - val_acc: 0.6375\n",
      "Epoch 2/5\n",
      "39/39 [==============================] - 47s 1s/step - loss: 0.6748 - acc: 0.6308 - val_loss: 0.6014 - val_acc: 0.6700\n",
      "Epoch 3/5\n",
      "39/39 [==============================] - 46s 1s/step - loss: 0.6831 - acc: 0.6224 - val_loss: 0.6009 - val_acc: 0.6400\n",
      "Epoch 4/5\n",
      "39/39 [==============================] - 46s 1s/step - loss: 0.6617 - acc: 0.6362 - val_loss: 0.5967 - val_acc: 0.6700\n",
      "Epoch 5/5\n",
      "39/39 [==============================] - 45s 1s/step - loss: 0.6614 - acc: 0.6431 - val_loss: 0.6103 - val_acc: 0.6725\n"
     ]
    },
    {
     "data": {
      "text/plain": [
       "<keras.callbacks.History at 0x7ff2581c0eb8>"
      ]
     },
     "execution_count": 20,
     "metadata": {},
     "output_type": "execute_result"
    }
   ],
   "source": [
    "vgg.model.optimizer.lr = 0.00001\n",
    "vgg.model.fit_generator(batches,  \n",
    "                        epochs = 5, \n",
    "                        validation_data = val_batches)"
   ]
  },
  {
   "cell_type": "code",
   "execution_count": 21,
   "metadata": {
    "collapsed": false
   },
   "outputs": [
    {
     "name": "stdout",
     "output_type": "stream",
     "text": [
      "Epoch 1/5\n",
      "39/39 [==============================] - 54s 1s/step - loss: 0.6747 - acc: 0.6282 - val_loss: 0.5991 - val_acc: 0.6637\n",
      "Epoch 2/5\n",
      "39/39 [==============================] - 46s 1s/step - loss: 0.6590 - acc: 0.6327 - val_loss: 0.5974 - val_acc: 0.6587\n",
      "Epoch 3/5\n",
      "39/39 [==============================] - 46s 1s/step - loss: 0.6498 - acc: 0.6402 - val_loss: 0.6027 - val_acc: 0.6775\n",
      "Epoch 4/5\n",
      "39/39 [==============================] - 46s 1s/step - loss: 0.6499 - acc: 0.6424 - val_loss: 0.5978 - val_acc: 0.6500\n",
      "Epoch 5/5\n",
      "39/39 [==============================] - 46s 1s/step - loss: 0.6568 - acc: 0.6396 - val_loss: 0.6009 - val_acc: 0.6787\n"
     ]
    },
    {
     "data": {
      "text/plain": [
       "<keras.callbacks.History at 0x7ff2586d19e8>"
      ]
     },
     "execution_count": 21,
     "metadata": {},
     "output_type": "execute_result"
    }
   ],
   "source": [
    "vgg.model.optimizer.lr = 0.001\n",
    "vgg.model.fit_generator(batches,  \n",
    "                        epochs = 5, \n",
    "                        validation_data = val_batches)"
   ]
  },
  {
   "cell_type": "code",
   "execution_count": 22,
   "metadata": {
    "collapsed": false
   },
   "outputs": [
    {
     "name": "stdout",
     "output_type": "stream",
     "text": [
      "Epoch 1/5\n",
      "39/39 [==============================] - 53s 1s/step - loss: 0.6354 - acc: 0.6537 - val_loss: 0.5971 - val_acc: 0.6800\n",
      "Epoch 2/5\n",
      "39/39 [==============================] - 46s 1s/step - loss: 0.6596 - acc: 0.6295 - val_loss: 0.5977 - val_acc: 0.6500\n",
      "Epoch 3/5\n",
      "39/39 [==============================] - 46s 1s/step - loss: 0.6418 - acc: 0.6483 - val_loss: 0.5951 - val_acc: 0.6700\n",
      "Epoch 4/5\n",
      "39/39 [==============================] - 46s 1s/step - loss: 0.6525 - acc: 0.6389 - val_loss: 0.5924 - val_acc: 0.6687\n",
      "Epoch 5/5\n",
      "39/39 [==============================] - 46s 1s/step - loss: 0.6433 - acc: 0.6401 - val_loss: 0.5988 - val_acc: 0.6837\n"
     ]
    },
    {
     "data": {
      "text/plain": [
       "<keras.callbacks.History at 0x7ff25866bd30>"
      ]
     },
     "execution_count": 22,
     "metadata": {},
     "output_type": "execute_result"
    }
   ],
   "source": [
    "vgg.model.optimizer.lr = 0.00001\n",
    "vgg.model.fit_generator(batches,  \n",
    "                        epochs = 5, \n",
    "                        validation_data = val_batches)"
   ]
  },
  {
   "cell_type": "code",
   "execution_count": 24,
   "metadata": {
    "collapsed": false
   },
   "outputs": [
    {
     "name": "stdout",
     "output_type": "stream",
     "text": [
      "Epoch 1/5\n",
      "39/39 [==============================] - 54s 1s/step - loss: 0.6469 - acc: 0.6409 - val_loss: 0.5990 - val_acc: 0.6475\n",
      "Epoch 2/5\n",
      "39/39 [==============================] - 46s 1s/step - loss: 0.6346 - acc: 0.6381 - val_loss: 0.5942 - val_acc: 0.6575\n",
      "Epoch 3/5\n",
      "39/39 [==============================] - 46s 1s/step - loss: 0.6417 - acc: 0.6381 - val_loss: 0.5967 - val_acc: 0.6438\n",
      "Epoch 4/5\n",
      "39/39 [==============================] - 47s 1s/step - loss: 0.6197 - acc: 0.6639 - val_loss: 0.5979 - val_acc: 0.6512\n",
      "Epoch 5/5\n",
      "39/39 [==============================] - 48s 1s/step - loss: 0.6323 - acc: 0.6427 - val_loss: 0.5941 - val_acc: 0.6625\n"
     ]
    },
    {
     "data": {
      "text/plain": [
       "<keras.callbacks.History at 0x7ff258674358>"
      ]
     },
     "execution_count": 24,
     "metadata": {},
     "output_type": "execute_result"
    }
   ],
   "source": [
    "vgg.model.optimizer.lr = 0.00001\n",
    "vgg.model.fit_generator(batches,  \n",
    "                        epochs = 5, \n",
    "                        validation_data = val_batches)"
   ]
  },
  {
   "cell_type": "code",
   "execution_count": null,
   "metadata": {
    "collapsed": true
   },
   "outputs": [],
   "source": []
  }
 ],
 "metadata": {
  "anaconda-cloud": {},
  "kernelspec": {
   "display_name": "Python [conda root]",
   "language": "python",
   "name": "conda-root-py"
  },
  "language_info": {
   "codemirror_mode": {
    "name": "ipython",
    "version": 3
   },
   "file_extension": ".py",
   "mimetype": "text/x-python",
   "name": "python",
   "nbconvert_exporter": "python",
   "pygments_lexer": "ipython3",
   "version": "3.5.2"
  }
 },
 "nbformat": 4,
 "nbformat_minor": 1
}
